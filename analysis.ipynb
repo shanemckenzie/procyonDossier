{
  "cells": [
    {
      "cell_type": "code",
      "source": [
        "print(\"test\")"
      ],
      "outputs": [
        {
          "output_type": "stream",
          "name": "stdout",
          "text": [
            "test\n"
          ]
        }
      ],
      "execution_count": 2,
      "metadata": {
        "collapsed": false
      }
    },
    {
      "cell_type": "code",
      "source": [
        "import numpy as np"
      ],
      "outputs": [],
      "execution_count": 3,
      "metadata": {
        "collapsed": true
      }
    },
    {
      "cell_type": "code",
      "source": [
        "import pandas as pd"
      ],
      "outputs": [],
      "execution_count": 4,
      "metadata": {
        "collapsed": true
      }
    },
    {
      "cell_type": "code",
      "source": [
        "import os"
      ],
      "outputs": [],
      "execution_count": 5,
      "metadata": {
        "collapsed": true
      }
    },
    {
      "cell_type": "code",
      "source": [
        "import matplotlib.pyplot as plt"
      ],
      "outputs": [],
      "execution_count": 6,
      "metadata": {
        "collapsed": true
      }
    },
    {
      "cell_type": "code",
      "source": [
        "os.chdir(\"/home/trevor/Documents/GitHub/procyonDossier/\")"
      ],
      "outputs": [],
      "execution_count": 7,
      "metadata": {
        "collapsed": true
      }
    },
    {
      "cell_type": "code",
      "source": [
        "report = pd.read_csv('report.csv')"
      ],
      "outputs": [],
      "execution_count": 8,
      "metadata": {
        "collapsed": true
      }
    },
    {
      "cell_type": "code",
      "source": [
        "report.shape"
      ],
      "outputs": [
        {
          "output_type": "execute_result",
          "execution_count": 9,
          "data": {
            "text/plain": [
              "(1001, 16)"
            ]
          },
          "metadata": {}
        }
      ],
      "execution_count": 9,
      "metadata": {
        "collapsed": false
      }
    },
    {
      "cell_type": "markdown",
      "source": [
        "# This is a heading\n",
        "## This is a subheading!\n",
        "\n",
        "This is normal text!\n",
        "*** I'm excited!! ***\n",
        "\n",
        "| Tables        | Are           | Cool  |\n",
        "| ------------- |:-------------:| -----:|\n",
        "| col 3 is      | right-aligned | $1600 |\n",
        "| col 2 is      | centered      |   $12 |\n",
        "| zebra stripes | are neat      |    $1 |"
      ],
      "metadata": {}
    },
    {
      "cell_type": "code",
      "source": [
        "name = report[\"First Name\"]"
      ],
      "outputs": [],
      "execution_count": 10,
      "metadata": {
        "collapsed": true
      }
    },
    {
      "cell_type": "code",
      "source": [
        "name.describe()"
      ],
      "outputs": [
        {
          "output_type": "execute_result",
          "execution_count": 11,
          "data": {
            "text/plain": [
              "count      1001\n",
              "unique      942\n",
              "top       Blair\n",
              "freq          3\n",
              "Name: First Name, dtype: object"
            ]
          },
          "metadata": {}
        }
      ],
      "execution_count": 11,
      "metadata": {
        "collapsed": false,
        "scrolled": true
      }
    },
    {
      "cell_type": "code",
      "source": [
        "doctors = report[\"Attnd. Phys.\"]"
      ],
      "outputs": [],
      "execution_count": 12,
      "metadata": {
        "collapsed": true
      }
    },
    {
      "cell_type": "code",
      "source": [
        "doctors.describe()"
      ],
      "outputs": [
        {
          "output_type": "execute_result",
          "execution_count": 13,
          "data": {
            "text/plain": [
              "count     1001\n",
              "unique       6\n",
              "top        Lee\n",
              "freq       177\n",
              "Name: Attnd. Phys., dtype: object"
            ]
          },
          "metadata": {}
        }
      ],
      "execution_count": 13,
      "metadata": {
        "collapsed": false
      }
    },
    {
      "cell_type": "markdown",
      "source": [
        "Given that there are only 6 attending phys., there is probably only one hospital. It's called \"central\" so we'll assume that it is between the river and the park."
      ],
      "metadata": {}
    },
    {
      "cell_type": "code",
      "source": [
        "sectors = report['Sector']"
      ],
      "outputs": [],
      "execution_count": 14,
      "metadata": {
        "collapsed": false
      }
    },
    {
      "cell_type": "code",
      "source": [
        "sectors.describe()"
      ],
      "outputs": [
        {
          "output_type": "execute_result",
          "execution_count": 15,
          "data": {
            "text/plain": [
              "count          1001\n",
              "unique           18\n",
              "top       Sector 22\n",
              "freq            116\n",
              "Name: Sector, dtype: object"
            ]
          },
          "metadata": {}
        }
      ],
      "execution_count": 15,
      "metadata": {
        "collapsed": false
      }
    },
    {
      "cell_type": "markdown",
      "source": [
        "- Sector 22 is the most infected! \n",
        "- There are only patients from 18 unique sectors...\n"
      ],
      "metadata": {}
    },
    {
      "cell_type": "code",
      "source": [
        "sector_names = [sector for sector in np.unique(sectors)]"
      ],
      "outputs": [],
      "execution_count": 16,
      "metadata": {
        "collapsed": false
      }
    },
    {
      "cell_type": "code",
      "source": [
        "sector_names"
      ],
      "outputs": [
        {
          "output_type": "execute_result",
          "execution_count": 17,
          "data": {
            "text/plain": [
              "['Sector 10',\n",
              " 'Sector 11',\n",
              " 'Sector 12',\n",
              " 'Sector 15',\n",
              " 'Sector 18',\n",
              " 'Sector 19',\n",
              " 'Sector 20',\n",
              " 'Sector 21',\n",
              " 'Sector 22',\n",
              " 'Sector 23',\n",
              " 'Sector 24',\n",
              " 'Sector 25',\n",
              " 'Sector 26',\n",
              " 'Sector 30',\n",
              " 'Sector 31',\n",
              " 'Sector 6',\n",
              " 'Sector 7',\n",
              " 'Sector 8']"
            ]
          },
          "metadata": {}
        }
      ],
      "execution_count": 17,
      "metadata": {
        "collapsed": false
      }
    },
    {
      "cell_type": "markdown",
      "source": [
        "<img src=\"./procyon_city.png\">"
      ],
      "metadata": {}
    },
    {
      "cell_type": "code",
      "source": [
        "report[\"Admission\"].unique()"
      ],
      "outputs": [
        {
          "output_type": "execute_result",
          "execution_count": 22,
          "data": {
            "text/plain": [
              "array(['2018-03-08', '2018-03-09', '2018-03-10', '2018-03-11',\n",
              "       '2018-03-12', '2018-03-06', '2018-03-07', '2018-03-05',\n",
              "       '2018-03-13', '2018-03-04'], dtype=object)"
            ]
          },
          "metadata": {}
        }
      ],
      "execution_count": 22,
      "metadata": {}
    },
    {
      "cell_type": "code",
      "source": [
        "report.where(report[\"Admission\"] == '2018-03-04').groupby(\"Sector\").size()"
      ],
      "outputs": [
        {
          "output_type": "execute_result",
          "execution_count": 26,
          "data": {
            "text/plain": [
              "Sector\n",
              "Sector 26    1\n",
              "dtype: int64"
            ]
          },
          "metadata": {}
        }
      ],
      "execution_count": 26,
      "metadata": {
        "collapsed": false,
        "outputHidden": false,
        "inputHidden": false
      }
    },
    {
      "cell_type": "code",
      "source": [
        "report[report[\"Admission\"]=='2018-03-04']"
      ],
      "outputs": [
        {
          "output_type": "execute_result",
          "execution_count": 27,
          "data": {
            "text/plain": [
              "    First Name Last Name  SIN  Gender     Sector  Age    Admission Profession  \\\n",
              "773  DeVoulier      Lila  NaN  Female  Sector 26    12  2018-03-04        NaN   \n",
              "\n",
              "    Status  DOD  Donor? Chaplin Service Meal Pref ROOM   DNR? Attnd. Phys.  \n",
              "773  ALIVE  NaN   False             NaN       NaN   A7  False        White  "
            ],
            "text/html": [
              "<div>\n",
              "<style scoped>\n",
              "    .dataframe tbody tr th:only-of-type {\n",
              "        vertical-align: middle;\n",
              "    }\n",
              "\n",
              "    .dataframe tbody tr th {\n",
              "        vertical-align: top;\n",
              "    }\n",
              "\n",
              "    .dataframe thead th {\n",
              "        text-align: right;\n",
              "    }\n",
              "</style>\n",
              "<table border=\"1\" class=\"dataframe\">\n",
              "  <thead>\n",
              "    <tr style=\"text-align: right;\">\n",
              "      <th></th>\n",
              "      <th>First Name</th>\n",
              "      <th>Last Name</th>\n",
              "      <th>SIN</th>\n",
              "      <th>Gender</th>\n",
              "      <th>Sector</th>\n",
              "      <th>Age</th>\n",
              "      <th>Admission</th>\n",
              "      <th>Profession</th>\n",
              "      <th>Status</th>\n",
              "      <th>DOD</th>\n",
              "      <th>Donor?</th>\n",
              "      <th>Chaplin Service</th>\n",
              "      <th>Meal Pref</th>\n",
              "      <th>ROOM</th>\n",
              "      <th>DNR?</th>\n",
              "      <th>Attnd. Phys.</th>\n",
              "    </tr>\n",
              "  </thead>\n",
              "  <tbody>\n",
              "    <tr>\n",
              "      <th>773</th>\n",
              "      <td>DeVoulier</td>\n",
              "      <td>Lila</td>\n",
              "      <td>NaN</td>\n",
              "      <td>Female</td>\n",
              "      <td>Sector 26</td>\n",
              "      <td>12</td>\n",
              "      <td>2018-03-04</td>\n",
              "      <td>NaN</td>\n",
              "      <td>ALIVE</td>\n",
              "      <td>NaN</td>\n",
              "      <td>False</td>\n",
              "      <td>NaN</td>\n",
              "      <td>NaN</td>\n",
              "      <td>A7</td>\n",
              "      <td>False</td>\n",
              "      <td>White</td>\n",
              "    </tr>\n",
              "  </tbody>\n",
              "</table>\n",
              "</div>"
            ]
          },
          "metadata": {}
        }
      ],
      "execution_count": 27,
      "metadata": {
        "collapsed": false,
        "outputHidden": false,
        "inputHidden": false
      }
    },
    {
      "cell_type": "markdown",
      "source": [
        "The afforementioned is the earliest recorded infected -- we assume patient 0.\n",
        "- Named Lila DeVoulier\n",
        "- Female\n",
        "- Aged 12\n",
        "- Patient reports from sector 26.\n",
        "- Maybe immigrant? No SIN."
      ],
      "metadata": {}
    },
    {
      "cell_type": "code",
      "source": [
        "report[\"DOD\"].unique()"
      ],
      "outputs": [
        {
          "output_type": "execute_result",
          "execution_count": 34,
          "data": {
            "text/plain": [
              "array(['2018-03-09', nan, '2018-03-10', '2018-03-11', '2018-03-13',\n",
              "       '2018-03-12', '2018-03-14', '2018-03-08', '2018-03-15',\n",
              "       '2018-03-07', '2018-03-06', '2018-03-05', '2018-03-16'],\n",
              "      dtype=object)"
            ]
          },
          "metadata": {}
        }
      ],
      "execution_count": 34,
      "metadata": {
        "collapsed": false,
        "outputHidden": false,
        "inputHidden": false
      }
    },
    {
      "cell_type": "markdown",
      "source": [
        "We may assume at most that the earliest submission data was March 16th 2018 -- being that this is the last reported date."
      ],
      "metadata": {
        "collapsed": false,
        "outputHidden": false,
        "inputHidden": false
      }
    },
    {
      "cell_type": "code",
      "source": [
        "report[report[\"SIN\"].isnull()]"
      ],
      "outputs": [
        {
          "output_type": "execute_result",
          "execution_count": 36,
          "data": {
            "text/plain": [
              "    First Name Last Name  SIN  Gender     Sector  Age    Admission Profession  \\\n",
              "773  DeVoulier      Lila  NaN  Female  Sector 26    12  2018-03-04        NaN   \n",
              "788     Moises    Heskey  NaN    Male  Sector 26     0  2018-03-08        NaN   \n",
              "\n",
              "       Status         DOD  Donor? Chaplin Service Meal Pref ROOM   DNR?  \\\n",
              "773     ALIVE         NaN   False             NaN       NaN   A7  False   \n",
              "788  DECEASED  2018-03-08   False          Muslim       NaN  A14   True   \n",
              "\n",
              "    Attnd. Phys.  \n",
              "773        White  \n",
              "788          Lee  "
            ],
            "text/html": [
              "<div>\n",
              "<style scoped>\n",
              "    .dataframe tbody tr th:only-of-type {\n",
              "        vertical-align: middle;\n",
              "    }\n",
              "\n",
              "    .dataframe tbody tr th {\n",
              "        vertical-align: top;\n",
              "    }\n",
              "\n",
              "    .dataframe thead th {\n",
              "        text-align: right;\n",
              "    }\n",
              "</style>\n",
              "<table border=\"1\" class=\"dataframe\">\n",
              "  <thead>\n",
              "    <tr style=\"text-align: right;\">\n",
              "      <th></th>\n",
              "      <th>First Name</th>\n",
              "      <th>Last Name</th>\n",
              "      <th>SIN</th>\n",
              "      <th>Gender</th>\n",
              "      <th>Sector</th>\n",
              "      <th>Age</th>\n",
              "      <th>Admission</th>\n",
              "      <th>Profession</th>\n",
              "      <th>Status</th>\n",
              "      <th>DOD</th>\n",
              "      <th>Donor?</th>\n",
              "      <th>Chaplin Service</th>\n",
              "      <th>Meal Pref</th>\n",
              "      <th>ROOM</th>\n",
              "      <th>DNR?</th>\n",
              "      <th>Attnd. Phys.</th>\n",
              "    </tr>\n",
              "  </thead>\n",
              "  <tbody>\n",
              "    <tr>\n",
              "      <th>773</th>\n",
              "      <td>DeVoulier</td>\n",
              "      <td>Lila</td>\n",
              "      <td>NaN</td>\n",
              "      <td>Female</td>\n",
              "      <td>Sector 26</td>\n",
              "      <td>12</td>\n",
              "      <td>2018-03-04</td>\n",
              "      <td>NaN</td>\n",
              "      <td>ALIVE</td>\n",
              "      <td>NaN</td>\n",
              "      <td>False</td>\n",
              "      <td>NaN</td>\n",
              "      <td>NaN</td>\n",
              "      <td>A7</td>\n",
              "      <td>False</td>\n",
              "      <td>White</td>\n",
              "    </tr>\n",
              "    <tr>\n",
              "      <th>788</th>\n",
              "      <td>Moises</td>\n",
              "      <td>Heskey</td>\n",
              "      <td>NaN</td>\n",
              "      <td>Male</td>\n",
              "      <td>Sector 26</td>\n",
              "      <td>0</td>\n",
              "      <td>2018-03-08</td>\n",
              "      <td>NaN</td>\n",
              "      <td>DECEASED</td>\n",
              "      <td>2018-03-08</td>\n",
              "      <td>False</td>\n",
              "      <td>Muslim</td>\n",
              "      <td>NaN</td>\n",
              "      <td>A14</td>\n",
              "      <td>True</td>\n",
              "      <td>Lee</td>\n",
              "    </tr>\n",
              "  </tbody>\n",
              "</table>\n",
              "</div>"
            ]
          },
          "metadata": {}
        }
      ],
      "execution_count": 36,
      "metadata": {}
    },
    {
      "cell_type": "code",
      "source": [
        "report[report[\"Last Name\"]==\"Heskey\"]"
      ],
      "outputs": [
        {
          "output_type": "execute_result",
          "execution_count": 37,
          "data": {
            "text/plain": [
              "    First Name Last Name  SIN Gender     Sector  Age    Admission Profession  \\\n",
              "788     Moises    Heskey  NaN   Male  Sector 26     0  2018-03-08        NaN   \n",
              "\n",
              "       Status         DOD  Donor? Chaplin Service Meal Pref ROOM  DNR?  \\\n",
              "788  DECEASED  2018-03-08   False          Muslim       NaN  A14  True   \n",
              "\n",
              "    Attnd. Phys.  \n",
              "788          Lee  "
            ],
            "text/html": [
              "<div>\n",
              "<style scoped>\n",
              "    .dataframe tbody tr th:only-of-type {\n",
              "        vertical-align: middle;\n",
              "    }\n",
              "\n",
              "    .dataframe tbody tr th {\n",
              "        vertical-align: top;\n",
              "    }\n",
              "\n",
              "    .dataframe thead th {\n",
              "        text-align: right;\n",
              "    }\n",
              "</style>\n",
              "<table border=\"1\" class=\"dataframe\">\n",
              "  <thead>\n",
              "    <tr style=\"text-align: right;\">\n",
              "      <th></th>\n",
              "      <th>First Name</th>\n",
              "      <th>Last Name</th>\n",
              "      <th>SIN</th>\n",
              "      <th>Gender</th>\n",
              "      <th>Sector</th>\n",
              "      <th>Age</th>\n",
              "      <th>Admission</th>\n",
              "      <th>Profession</th>\n",
              "      <th>Status</th>\n",
              "      <th>DOD</th>\n",
              "      <th>Donor?</th>\n",
              "      <th>Chaplin Service</th>\n",
              "      <th>Meal Pref</th>\n",
              "      <th>ROOM</th>\n",
              "      <th>DNR?</th>\n",
              "      <th>Attnd. Phys.</th>\n",
              "    </tr>\n",
              "  </thead>\n",
              "  <tbody>\n",
              "    <tr>\n",
              "      <th>788</th>\n",
              "      <td>Moises</td>\n",
              "      <td>Heskey</td>\n",
              "      <td>NaN</td>\n",
              "      <td>Male</td>\n",
              "      <td>Sector 26</td>\n",
              "      <td>0</td>\n",
              "      <td>2018-03-08</td>\n",
              "      <td>NaN</td>\n",
              "      <td>DECEASED</td>\n",
              "      <td>2018-03-08</td>\n",
              "      <td>False</td>\n",
              "      <td>Muslim</td>\n",
              "      <td>NaN</td>\n",
              "      <td>A14</td>\n",
              "      <td>True</td>\n",
              "      <td>Lee</td>\n",
              "    </tr>\n",
              "  </tbody>\n",
              "</table>\n",
              "</div>"
            ]
          },
          "metadata": {}
        }
      ],
      "execution_count": 37,
      "metadata": {
        "collapsed": false,
        "outputHidden": false,
        "inputHidden": false
      }
    },
    {
      "cell_type": "code",
      "source": [
        "report[report[\"Last Name\"]==\"Lila\"]"
      ],
      "outputs": [
        {
          "output_type": "execute_result",
          "execution_count": 39,
          "data": {
            "text/plain": [
              "    First Name Last Name  SIN  Gender     Sector  Age    Admission Profession  \\\n",
              "773  DeVoulier      Lila  NaN  Female  Sector 26    12  2018-03-04        NaN   \n",
              "\n",
              "    Status  DOD  Donor? Chaplin Service Meal Pref ROOM   DNR? Attnd. Phys.  \n",
              "773  ALIVE  NaN   False             NaN       NaN   A7  False        White  "
            ],
            "text/html": [
              "<div>\n",
              "<style scoped>\n",
              "    .dataframe tbody tr th:only-of-type {\n",
              "        vertical-align: middle;\n",
              "    }\n",
              "\n",
              "    .dataframe tbody tr th {\n",
              "        vertical-align: top;\n",
              "    }\n",
              "\n",
              "    .dataframe thead th {\n",
              "        text-align: right;\n",
              "    }\n",
              "</style>\n",
              "<table border=\"1\" class=\"dataframe\">\n",
              "  <thead>\n",
              "    <tr style=\"text-align: right;\">\n",
              "      <th></th>\n",
              "      <th>First Name</th>\n",
              "      <th>Last Name</th>\n",
              "      <th>SIN</th>\n",
              "      <th>Gender</th>\n",
              "      <th>Sector</th>\n",
              "      <th>Age</th>\n",
              "      <th>Admission</th>\n",
              "      <th>Profession</th>\n",
              "      <th>Status</th>\n",
              "      <th>DOD</th>\n",
              "      <th>Donor?</th>\n",
              "      <th>Chaplin Service</th>\n",
              "      <th>Meal Pref</th>\n",
              "      <th>ROOM</th>\n",
              "      <th>DNR?</th>\n",
              "      <th>Attnd. Phys.</th>\n",
              "    </tr>\n",
              "  </thead>\n",
              "  <tbody>\n",
              "    <tr>\n",
              "      <th>773</th>\n",
              "      <td>DeVoulier</td>\n",
              "      <td>Lila</td>\n",
              "      <td>NaN</td>\n",
              "      <td>Female</td>\n",
              "      <td>Sector 26</td>\n",
              "      <td>12</td>\n",
              "      <td>2018-03-04</td>\n",
              "      <td>NaN</td>\n",
              "      <td>ALIVE</td>\n",
              "      <td>NaN</td>\n",
              "      <td>False</td>\n",
              "      <td>NaN</td>\n",
              "      <td>NaN</td>\n",
              "      <td>A7</td>\n",
              "      <td>False</td>\n",
              "      <td>White</td>\n",
              "    </tr>\n",
              "  </tbody>\n",
              "</table>\n",
              "</div>"
            ]
          },
          "metadata": {}
        }
      ],
      "execution_count": 39,
      "metadata": {
        "collapsed": false,
        "outputHidden": false,
        "inputHidden": false
      }
    },
    {
      "cell_type": "markdown",
      "source": [
        "We have found that there are two people without a SIN -- both are from sector 26, and both are children. We were not able to identify any relations that were admitted. \n",
        "\n",
        "DeVoulier Lila - Aged 12, Female > Patient Zero, alive\n",
        "\nMoises Heskey -- Aged 0, Male, deceased"
      ],
      "metadata": {
        "collapsed": false,
        "outputHidden": false,
        "inputHidden": false
      }
    },
    {
      "cell_type": "code",
      "source": [
        "report[\"Age \"].describe()"
      ],
      "outputs": [
        {
          "output_type": "execute_result",
          "execution_count": 42,
          "data": {
            "text/plain": [
              "count    1001.000000\n",
              "mean       47.835165\n",
              "std        28.062498\n",
              "min         0.000000\n",
              "25%        22.000000\n",
              "50%        49.000000\n",
              "75%        73.000000\n",
              "max        96.000000\n",
              "Name: Age , dtype: float64"
            ]
          },
          "metadata": {}
        }
      ],
      "execution_count": 42,
      "metadata": {}
    },
    {
      "cell_type": "code",
      "source": [
        "report.hist(column=\"Age \", figsize=(9,6), bins=20)"
      ],
      "outputs": [
        {
          "output_type": "execute_result",
          "execution_count": 43,
          "data": {
            "text/plain": [
              "array([[<matplotlib.axes._subplots.AxesSubplot object at 0x7fb7117dee80>]],\n",
              "      dtype=object)"
            ]
          },
          "metadata": {}
        }
      ],
      "execution_count": 43,
      "metadata": {
        "collapsed": false,
        "outputHidden": false,
        "inputHidden": false
      }
    },
    {
      "cell_type": "code",
      "source": [
        "plt.show()"
      ],
      "outputs": [
        {
          "output_type": "display_data",
          "data": {
            "text/plain": [
              "<matplotlib.figure.Figure at 0x7fb710ca8438>"
            ],
            "image/png": "[encoded data removed]"
          },
          "metadata": {}
        }
      ],
      "execution_count": 44,
      "metadata": {
        "collapsed": false,
        "outputHidden": false,
        "inputHidden": false
      }
    },
    {
      "cell_type": "code",
      "source": [
        "report[\"Gender\"].describe()"
      ],
      "outputs": [
        {
          "output_type": "execute_result",
          "execution_count": 50,
          "data": {
            "text/plain": [
              "count       1001\n",
              "unique         2\n",
              "top       Female\n",
              "freq         501\n",
              "Name: Gender, dtype: object"
            ]
          },
          "metadata": {}
        }
      ],
      "execution_count": 50,
      "metadata": {
        "collapsed": false,
        "outputHidden": false,
        "inputHidden": false
      }
    },
    {
      "cell_type": "markdown",
      "source": [
        "Looking at age and gender of admitted patients does not appear to reveal anything statistically significant."
      ],
      "metadata": {
        "collapsed": false,
        "outputHidden": false,
        "inputHidden": false
      }
    },
    {
      "cell_type": "code",
      "source": [
        "report[\"Gender\"].where(report[\"Status\"]==\"DECEASED\").describe()"
      ],
      "outputs": [
        {
          "output_type": "execute_result",
          "execution_count": 52,
          "data": {
            "text/plain": [
              "count        518\n",
              "unique         2\n",
              "top       Female\n",
              "freq         262\n",
              "Name: Gender, dtype: object"
            ]
          },
          "metadata": {}
        }
      ],
      "execution_count": 52,
      "metadata": {}
    },
    {
      "cell_type": "markdown",
      "source": [
        "52% of infected female are dead. \n",
        "\n51% of infected males are dead."
      ],
      "metadata": {
        "collapsed": false,
        "outputHidden": false,
        "inputHidden": false
      }
    },
    {
      "cell_type": "code",
      "source": [
        "report[\"Sector\"].value_counts()"
      ],
      "outputs": [
        {
          "output_type": "execute_result",
          "execution_count": 55,
          "data": {
            "text/plain": [
              "Sector 22    116\n",
              "Sector 24    105\n",
              "Sector 21     94\n",
              "Sector 23     92\n",
              "Sector 25     80\n",
              "Sector 19     70\n",
              "Sector 8      49\n",
              "Sector 11     48\n",
              "Sector 6      42\n",
              "Sector 30     40\n",
              "Sector 20     39\n",
              "Sector 12     37\n",
              "Sector 31     35\n",
              "Sector 7      34\n",
              "Sector 18     33\n",
              "Sector 15     30\n",
              "Sector 10     29\n",
              "Sector 26     28\n",
              "Name: Sector, dtype: int64"
            ]
          },
          "metadata": {}
        }
      ],
      "execution_count": 55,
      "metadata": {}
    },
    {
      "cell_type": "code",
      "source": [
        "report[\"Sector\"].where(report[\"Status\"] == \"DECEASED\").value_counts()"
      ],
      "outputs": [
        {
          "output_type": "execute_result",
          "execution_count": 57,
          "data": {
            "text/plain": [
              "Sector 22    62\n",
              "Sector 21    51\n",
              "Sector 24    50\n",
              "Sector 23    50\n",
              "Sector 25    38\n",
              "Sector 19    34\n",
              "Sector 8     30\n",
              "Sector 11    27\n",
              "Sector 18    22\n",
              "Sector 31    21\n",
              "Sector 12    20\n",
              "Sector 20    20\n",
              "Sector 6     20\n",
              "Sector 7     17\n",
              "Sector 26    16\n",
              "Sector 30    16\n",
              "Sector 15    12\n",
              "Sector 10    12\n",
              "Name: Sector, dtype: int64"
            ]
          },
          "metadata": {}
        }
      ],
      "execution_count": 57,
      "metadata": {
        "collapsed": false,
        "outputHidden": false,
        "inputHidden": false
      }
    },
    {
      "cell_type": "code",
      "source": [],
      "outputs": [],
      "execution_count": null,
      "metadata": {
        "collapsed": false,
        "outputHidden": false,
        "inputHidden": false
      }
    }
  ],
  "metadata": {
    "kernelspec": {
      "name": "python3",
      "language": "python",
      "display_name": "Python 3"
    },
    "language_info": {
      "name": "python",
      "version": "3.6.3",
      "mimetype": "text/x-python",
      "codemirror_mode": {
        "name": "ipython",
        "version": 3
      },
      "pygments_lexer": "ipython3",
      "nbconvert_exporter": "python",
      "file_extension": ".py"
    },
    "kernel_info": {
      "name": "python3"
    },
    "nteract": {
      "version": "0.8.4"
    }
  },
  "nbformat": 4,
  "nbformat_minor": 2
}